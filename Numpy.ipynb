{
  "nbformat": 4,
  "nbformat_minor": 0,
  "metadata": {
    "colab": {
      "name": "Numpy.ipynb",
      "provenance": [],
      "authorship_tag": "ABX9TyPlIGA3Au2wB9ZQLQ3gV05G",
      "include_colab_link": true
    },
    "kernelspec": {
      "name": "python3",
      "display_name": "Python 3"
    },
    "language_info": {
      "name": "python"
    }
  },
  "cells": [
    {
      "cell_type": "markdown",
      "metadata": {
        "id": "view-in-github",
        "colab_type": "text"
      },
      "source": [
        "<a href=\"https://colab.research.google.com/github/Vincelogs/Data-Science-with-PYTHON/blob/main/Numpy.ipynb\" target=\"_parent\"><img src=\"https://colab.research.google.com/assets/colab-badge.svg\" alt=\"Open In Colab\"/></a>"
      ]
    },
    {
      "cell_type": "markdown",
      "source": [
        "# **Introduction**"
      ],
      "metadata": {
        "id": "rc_iPr4RIJKt"
      }
    },
    {
      "cell_type": "code",
      "execution_count": null,
      "metadata": {
        "colab": {
          "base_uri": "https://localhost:8080/"
        },
        "id": "2fKBOKzFxmBf",
        "outputId": "168ba044-9209-408e-830d-e41138ae92b4"
      },
      "outputs": [
        {
          "output_type": "stream",
          "name": "stdout",
          "text": [
            "Array with Rank 1: \n",
            " [1 2 3]\n",
            "Array with Rank 2: \n",
            " [[1 2 3]\n",
            " [4 5 6]]\n",
            "\n",
            "Array created using passed tuple:\n",
            " [1 3 2]\n"
          ]
        }
      ],
      "source": [
        "# Python program for\n",
        "# Creation of Arrays\n",
        "import numpy as np\n",
        " \n",
        "# Creating a rank 1 Array\n",
        "arr = np.array([1, 2, 3])\n",
        "print(\"Array with Rank 1: \\n\",arr)\n",
        " \n",
        "# Creating a rank 2 Array\n",
        "arr = np.array([[1, 2, 3],\n",
        "                [4, 5, 6]])\n",
        "print(\"Array with Rank 2: \\n\", arr)\n",
        " \n",
        "# Creating an array from tuple\n",
        "arr = np.array((1, 3, 2))\n",
        "print(\"\\nArray created using \"\n",
        "      \"passed tuple:\\n\", arr)"
      ]
    },
    {
      "cell_type": "code",
      "source": [
        "# Python program to demonstrate\n",
        "# indexing in numpy array\n",
        "import numpy as np\n",
        " \n",
        "# Initial Array\n",
        "arr = np.array([[-1, 2, 0, 4],\n",
        "                [4, -0.5, 6, 0],\n",
        "                [2.6, 0, 7, 8],\n",
        "                [3, -7, 4, 2.0]])\n",
        "print(\"Initial Array: \")\n",
        "print(arr)\n",
        " \n",
        "# Printing a range of Array\n",
        "# with the use of slicing method\n",
        "sliced_arr = arr[:2, ::2]\n",
        "print (\"Array with first 2 rows and\"\n",
        "    \" alternate columns(0 and 2):\\n\", sliced_arr)\n",
        " \n",
        "# Printing elements at\n",
        "# specific Indices\n",
        "Index_arr = arr[[1, 1, 0, 3], \n",
        "                [3, 2, 1, 0]]\n",
        "print (\"\\nElements at indices (1, 3), \"\n",
        "    \"(1, 2), (0, 1), (3, 0):\\n\", Index_arr)"
      ],
      "metadata": {
        "colab": {
          "base_uri": "https://localhost:8080/"
        },
        "id": "HTJmsG-VzvWv",
        "outputId": "466f00bc-ce70-4d86-d4a6-5b979c5ae841"
      },
      "execution_count": null,
      "outputs": [
        {
          "output_type": "stream",
          "name": "stdout",
          "text": [
            "Initial Array: \n",
            "[[-1.   2.   0.   4. ]\n",
            " [ 4.  -0.5  6.   0. ]\n",
            " [ 2.6  0.   7.   8. ]\n",
            " [ 3.  -7.   4.   2. ]]\n",
            "Array with first 2 rows and alternate columns(0 and 2):\n",
            " [[-1.  0.]\n",
            " [ 4.  6.]]\n",
            "\n",
            "Elements at indices (1, 3), (1, 2), (0, 1), (3, 0):\n",
            " [0. 6. 2. 3.]\n"
          ]
        }
      ]
    },
    {
      "cell_type": "code",
      "source": [
        "# Python program to demonstrate\n",
        "# basic operations on single array\n",
        "import numpy as np\n",
        " \n",
        "# Defining Array 1\n",
        "a = np.array([[1, 2],\n",
        "              [3, 4]])\n",
        " \n",
        "# Defining Array 2\n",
        "b = np.array([[4, 3],\n",
        "              [2, 1]])\n",
        "               \n",
        "# Adding 1 to every element\n",
        "print (\"Adding 1 to every element:\", a + 1)\n",
        " \n",
        "# Subtracting 2 from each element\n",
        "print (\"\\nSubtracting 2 from each element:\", b - 2)\n",
        " \n",
        "# sum of array elements\n",
        "# Performing Unary operations\n",
        "print (\"\\nSum of all array \"\n",
        "       \"elements: \", a.sum())\n",
        " \n",
        "# Adding two arrays\n",
        "# Performing Binary operations\n",
        "print (\"\\nArray sum:\\n\", a + b)"
      ],
      "metadata": {
        "id": "-BIL72LY1LzU",
        "outputId": "a5051505-a1f5-441a-d941-46e19800e6b7",
        "colab": {
          "base_uri": "https://localhost:8080/"
        }
      },
      "execution_count": null,
      "outputs": [
        {
          "output_type": "stream",
          "name": "stdout",
          "text": [
            "Adding 1 to every element: [[2 3]\n",
            " [4 5]]\n",
            "\n",
            "Subtracting 2 from each element: [[ 2  1]\n",
            " [ 0 -1]]\n",
            "\n",
            "Sum of all array elements:  10\n",
            "\n",
            "Array sum:\n",
            " [[5 5]\n",
            " [5 5]]\n"
          ]
        }
      ]
    },
    {
      "cell_type": "markdown",
      "source": [
        "**Basic Array Operations in Numpy**"
      ],
      "metadata": {
        "id": "-jtFtvCAjqKd"
      }
    },
    {
      "cell_type": "code",
      "source": [
        "# Python program to demonstrate\n",
        "# basic array characteristics\n",
        "import numpy as np\n",
        "\n",
        "# Creating array object\n",
        "arr = np.array( [[ 1, 2, 3],\n",
        "\t\t\t\t[ 4, 2, 5]] )\n",
        "\n",
        "# Printing type of arr object\n",
        "print(\"Array is of type: \", type(arr))\n",
        "\n",
        "# Printing array dimensions (axes)\n",
        "print(\"No. of dimensions: \", arr.ndim)\n",
        "\n",
        "# Printing shape of array\n",
        "print(\"Shape of array: \", arr.shape)\n",
        "\n",
        "# Printing size (total number of elements) of array\n",
        "print(\"Size of array: \", arr.size)\n",
        "\n",
        "# Printing type of elements in array\n",
        "print(\"Array stores elements of type: \", arr.dtype)\n"
      ],
      "metadata": {
        "colab": {
          "base_uri": "https://localhost:8080/"
        },
        "id": "PiqWIQPJ7lUH",
        "outputId": "eb0ae47c-27ac-44b1-9782-090cd0dbdc13"
      },
      "execution_count": null,
      "outputs": [
        {
          "output_type": "stream",
          "name": "stdout",
          "text": [
            "Array is of type:  <class 'numpy.ndarray'>\n",
            "No. of dimensions:  2\n",
            "Shape of array:  (2, 3)\n",
            "Size of array:  6\n",
            "Array stores elements of type:  int64\n"
          ]
        }
      ]
    },
    {
      "cell_type": "code",
      "source": [
        "# Python program to demonstrate\n",
        "# array creation techniques\n",
        "import numpy as np\n",
        "\n",
        "# Creating array from list with type float\n",
        "a = np.array([[1, 2, 4], [5, 8, 7]], dtype = 'float')\n",
        "print (\"Array created using passed list:\\n\", a)\n",
        "\n",
        "# Creating array from tuple\n",
        "b = np.array((1 , 3, 2))\n",
        "print (\"\\nArray created using passed tuple:\\n\", b)\n",
        "\n",
        "# Creating a 3X4 array with all zeros\n",
        "c = np.zeros((3, 4))\n",
        "print (\"\\nAn array initialized with all zeros:\\n\", c)\n",
        "\n",
        "# Create a constant value array of complex type\n",
        "d = np.full((3, 3), 6, dtype = 'complex')\n",
        "print (\"\\nAn array initialized with all 6s.\"\n",
        "\t\t\t\"Array type is complex:\\n\", d)\n",
        "\n",
        "# Create an array with random values\n",
        "e = np.random.random((2, 2))\n",
        "print (\"\\nA random array:\\n\", e)\n",
        "\n",
        "# Create a sequence of integers\n",
        "# from 0 to 30 with steps of 5\n",
        "f = np.arange(0, 30, 5)\n",
        "print (\"\\nA sequential array with steps of 5:\\n\", f)\n",
        "\n",
        "# Create a sequence of 10 values in range 0 to 5\n",
        "g = np.linspace(0, 5, 10)\n",
        "print (\"\\nA sequential array with 10 values between\"\n",
        "\t\t\t\t\t\t\t\t\t\t\"0 and 5:\\n\", g)\n",
        "\n",
        "# Reshaping 3X4 array to 2X2X3 array\n",
        "arr = np.array([[1, 2, 3, 4],\n",
        "\t\t\t\t[5, 2, 4, 2],\n",
        "\t\t\t\t[1, 2, 0, 1]])\n",
        "\n",
        "newarr = arr.reshape(2, 2, 3)\n",
        "\n",
        "print (\"\\nOriginal array:\\n\", arr)\n",
        "print (\"Reshaped array:\\n\", newarr)\n",
        "\n",
        "# Flatten array\n",
        "arr = np.array([[1, 2, 3], [4, 5, 6]])\n",
        "flarr = arr.flatten()\n",
        "\n",
        "print (\"\\nOriginal array:\\n\", arr)\n",
        "print (\"Fattened array:\\n\", flarr)\n"
      ],
      "metadata": {
        "colab": {
          "base_uri": "https://localhost:8080/"
        },
        "id": "p-wwdiouEI5r",
        "outputId": "6d700f42-969f-482a-ce16-28fb26f81f82"
      },
      "execution_count": null,
      "outputs": [
        {
          "output_type": "stream",
          "name": "stdout",
          "text": [
            "Array created using passed list:\n",
            " [[1. 2. 4.]\n",
            " [5. 8. 7.]]\n",
            "\n",
            "Array created using passed tuple:\n",
            " [1 3 2]\n",
            "\n",
            "An array initialized with all zeros:\n",
            " [[0. 0. 0. 0.]\n",
            " [0. 0. 0. 0.]\n",
            " [0. 0. 0. 0.]]\n",
            "\n",
            "An array initialized with all 6s.Array type is complex:\n",
            " [[6.+0.j 6.+0.j 6.+0.j]\n",
            " [6.+0.j 6.+0.j 6.+0.j]\n",
            " [6.+0.j 6.+0.j 6.+0.j]]\n",
            "\n",
            "A random array:\n",
            " [[0.33446303 0.24888583]\n",
            " [0.04864877 0.49381654]]\n",
            "\n",
            "A sequential array with steps of 5:\n",
            " [ 0  5 10 15 20 25]\n",
            "\n",
            "A sequential array with 10 values between0 and 5:\n",
            " [0.         0.55555556 1.11111111 1.66666667 2.22222222 2.77777778\n",
            " 3.33333333 3.88888889 4.44444444 5.        ]\n",
            "\n",
            "Original array:\n",
            " [[1 2 3 4]\n",
            " [5 2 4 2]\n",
            " [1 2 0 1]]\n",
            "Reshaped array:\n",
            " [[[1 2 3]\n",
            "  [4 5 2]]\n",
            "\n",
            " [[4 2 1]\n",
            "  [2 0 1]]]\n",
            "\n",
            "Original array:\n",
            " [[1 2 3]\n",
            " [4 5 6]]\n",
            "Fattened array:\n",
            " [1 2 3 4 5 6]\n"
          ]
        }
      ]
    },
    {
      "cell_type": "code",
      "source": [
        "# Python program to demonstrate\n",
        "# indexing in numpy\n",
        "import numpy as np\n",
        "\n",
        "# An exemplar array\n",
        "arr = np.array([[-1, 2, 0, 4],\n",
        "\t\t\t\t[4, -0.5, 6, 0],\n",
        "\t\t\t\t[2.6, 0, 7, 8],\n",
        "\t\t\t\t[3, -7, 4, 2.0]])\n",
        "\n",
        "# Slicing array\n",
        "temp = arr[:2, ::2]\n",
        "print (\"Array with first 2 rows and alternate\"\n",
        "\t\t\t\t\t\"columns(0 and 2):\\n\", temp)\n",
        "\n",
        "# Integer array indexing example\n",
        "temp = arr[[0, 1, 2, 3], [3, 2, 1, 0]]\n",
        "print (\"\\nElements at indices (0, 3), (1, 2), (2, 1),\"\n",
        "\t\t\t\t\t\t\t\t\t\"(3, 0):\\n\", temp)\n",
        "\n",
        "# boolean array indexing example\n",
        "cond = arr > 0 # cond is a boolean array\n",
        "temp = arr[cond]\n",
        "print (\"\\nElements greater than 0:\\n\", temp)\n"
      ],
      "metadata": {
        "colab": {
          "base_uri": "https://localhost:8080/"
        },
        "id": "CWrj2qwAKD-N",
        "outputId": "a4f75bf9-06d7-49f9-f133-42d913e5543b"
      },
      "execution_count": null,
      "outputs": [
        {
          "output_type": "stream",
          "name": "stdout",
          "text": [
            "Array with first 2 rows and alternatecolumns(0 and 2):\n",
            " [[-1.  0.]\n",
            " [ 4.  6.]]\n",
            "\n",
            "Elements at indices (0, 3), (1, 2), (2, 1),(3, 0):\n",
            " [4. 6. 0. 3.]\n",
            "\n",
            "Elements greater than 0:\n",
            " [2.  4.  4.  6.  2.6 7.  8.  3.  4.  2. ]\n"
          ]
        }
      ]
    },
    {
      "cell_type": "code",
      "source": [
        "# Python program to demonstrate\n",
        "# basic operations on single array\n",
        "import numpy as np\n",
        "\n",
        "a = np.array([1, 2, 5, 3])\n",
        "\n",
        "# add 1 to every element\n",
        "print (\"Adding 1 to every element:\", a+1)\n",
        "\n",
        "# subtract 3 from each element\n",
        "print (\"Subtracting 3 from each element:\", a-3)\n",
        "\n",
        "# multiply each element by 10\n",
        "print (\"Multiplying each element by 10:\", a*10)\n",
        "\n",
        "# square each element\n",
        "print (\"Squaring each element:\", a**2)\n",
        "\n",
        "# modify existing array\n",
        "a *= 2\n",
        "print (\"Doubled each element of original array:\", a)\n",
        "\n",
        "# transpose of array\n",
        "a = np.array([[1, 2, 3], [3, 4, 5], [9, 6, 0]])\n",
        "\n",
        "print (\"\\nOriginal array:\\n\", a)\n",
        "print (\"Transpose of array:\\n\", a.T)\n"
      ],
      "metadata": {
        "colab": {
          "base_uri": "https://localhost:8080/"
        },
        "id": "w9VDdU7NKo7s",
        "outputId": "86d3fce2-b222-4b45-cc94-d6f67c6cb24b"
      },
      "execution_count": null,
      "outputs": [
        {
          "output_type": "stream",
          "name": "stdout",
          "text": [
            "Adding 1 to every element: [2 3 6 4]\n",
            "Subtracting 3 from each element: [-2 -1  2  0]\n",
            "Multiplying each element by 10: [10 20 50 30]\n",
            "Squaring each element: [ 1  4 25  9]\n",
            "Doubled each element of original array: [ 2  4 10  6]\n",
            "\n",
            "Original array:\n",
            " [[1 2 3]\n",
            " [3 4 5]\n",
            " [9 6 0]]\n",
            "Transpose of array:\n",
            " [[1 3 9]\n",
            " [2 4 6]\n",
            " [3 5 0]]\n"
          ]
        }
      ]
    },
    {
      "cell_type": "code",
      "source": [
        "# Python program to demonstrate\n",
        "# unary operators in numpy\n",
        "import numpy as np\n",
        "\n",
        "arr = np.array([[1, 5, 6],\n",
        "\t\t\t\t[4, 7, 2],\n",
        "\t\t\t\t[3, 1, 9]])\n",
        "\n",
        "# maximum element of array\n",
        "print (\"Largest element is:\", arr.max())\n",
        "print (\"Row-wise maximum elements:\",\n",
        "\t\t\t\t\tarr.max(axis = 1))\n",
        "\n",
        "# minimum element of array\n",
        "print (\"Column-wise minimum elements:\",\n",
        "\t\t\t\t\t\tarr.min(axis = 0))\n",
        "\n",
        "# sum of array elements\n",
        "print (\"Sum of all array elements:\",\n",
        "\t\t\t\t\t\t\tarr.sum())\n",
        "\n",
        "# cumulative sum along each row\n",
        "print (\"Cumulative sum along each row:\\n\",\n",
        "\t\t\t\t\t\tarr.cumsum(axis = 1))\n"
      ],
      "metadata": {
        "colab": {
          "base_uri": "https://localhost:8080/"
        },
        "id": "FjqGwEDtMJR2",
        "outputId": "31afa576-5cc5-48fd-aaf3-84f1a6d90140"
      },
      "execution_count": null,
      "outputs": [
        {
          "output_type": "stream",
          "name": "stdout",
          "text": [
            "Largest element is: 9\n",
            "Row-wise maximum elements: [6 7 9]\n",
            "Column-wise minimum elements: [1 1 2]\n",
            "Sum of all array elements: 38\n",
            "Cumulative sum along each row:\n",
            " [[ 1  6 12]\n",
            " [ 4 11 13]\n",
            " [ 3  4 13]]\n"
          ]
        }
      ]
    },
    {
      "cell_type": "code",
      "source": [
        "# Python program to demonstrate\n",
        "# binary operators in Numpy\n",
        "import numpy as np\n",
        "\n",
        "a = np.array([[1, 2],\n",
        "\t\t\t[3, 4]])\n",
        "b = np.array([[4, 3],\n",
        "\t\t\t[2, 1]])\n",
        "\n",
        "# add arrays\n",
        "print (\"Array sum:\\n\", a + b)\n",
        "\n",
        "# multiply arrays (elementwise multiplication)\n",
        "print (\"Array multiplication:\\n\", a*b)\n",
        "\n",
        "# matrix multiplication\n",
        "print (\"Matrix multiplication:\\n\", a.dot(b))\n"
      ],
      "metadata": {
        "colab": {
          "base_uri": "https://localhost:8080/"
        },
        "id": "NZoYRv75b3C8",
        "outputId": "81b057ac-eff8-48ea-dbb5-93f07c1ca26e"
      },
      "execution_count": null,
      "outputs": [
        {
          "output_type": "stream",
          "name": "stdout",
          "text": [
            "Array sum:\n",
            " [[5 5]\n",
            " [5 5]]\n",
            "Array multiplication:\n",
            " [[4 6]\n",
            " [6 4]]\n",
            "Matrix multiplication:\n",
            " [[ 8  5]\n",
            " [20 13]]\n"
          ]
        }
      ]
    },
    {
      "cell_type": "code",
      "source": [
        "# Python program to demonstrate\n",
        "# universal functions in numpy\n",
        "import numpy as np\n",
        "\n",
        "# create an array of sine values\n",
        "a = np.array([0, np.pi/2, np.pi])\n",
        "print (\"Sine values of array elements:\", np.sin(a))\n",
        "\n",
        "# exponential values\n",
        "a = np.array([0, 1, 2, 3])\n",
        "print (\"Exponent of array elements:\", np.exp(a))\n",
        "\n",
        "# square root of array values\n",
        "print (\"Square root of array elements:\", np.sqrt(a))\n"
      ],
      "metadata": {
        "colab": {
          "base_uri": "https://localhost:8080/"
        },
        "id": "bL6BPteDDaSH",
        "outputId": "11259082-31a8-4306-d53c-900bf606a388"
      },
      "execution_count": null,
      "outputs": [
        {
          "output_type": "stream",
          "name": "stdout",
          "text": [
            "Sine values of array elements: [0.0000000e+00 1.0000000e+00 1.2246468e-16]\n",
            "Exponent of array elements: [ 1.          2.71828183  7.3890561  20.08553692]\n",
            "Square root of array elements: [0.         1.         1.41421356 1.73205081]\n"
          ]
        }
      ]
    },
    {
      "cell_type": "code",
      "source": [
        "# Python program to demonstrate sorting in numpy\n",
        "import numpy as np\n",
        "\n",
        "a = np.array([[1, 4, 2],\n",
        "\t\t\t\t[3, 4, 6],\n",
        "\t\t\t[0, -1, 5]])\n",
        "\n",
        "# sorted array\n",
        "print (\"Array elements in sorted order:\\n\",\n",
        "\t\t\t\t\tnp.sort(a, axis = None))\n",
        "\n",
        "# sort array row-wise\n",
        "print (\"Row-wise sorted array:\\n\",\n",
        "\t\t\t\tnp.sort(a, axis = 1))\n",
        "\n",
        "# specify sort algorithm\n",
        "print (\"Column wise sort by applying merge-sort:\\n\",\n",
        "\t\t\tnp.sort(a, axis = 0, kind = 'mergesort'))\n",
        "\n",
        "# Example to show sorting of structured array\n",
        "# set alias names for dtypes\n",
        "dtypes = [('name', 'S10'), ('grad_year', int), ('cgpa', float)]\n",
        "\n",
        "# Values to be put in array\n",
        "values = [('Hrithik', 2009, 8.5), ('Ajay', 2008, 8.7),\n",
        "\t\t('Pankaj', 2008, 7.9), ('Aakash', 2009, 9.0)]\n",
        "\t\t\t\n",
        "# Creating array\n",
        "arr = np.array(values, dtype = dtypes)\n",
        "print (\"\\nArray sorted by names:\\n\",\n",
        "\t\t\tnp.sort(arr, order = 'name'))\n",
        "\t\t\t\n",
        "print (\"Array sorted by graduation year and then cgpa:\\n\",\n",
        "\t\t\t\tnp.sort(arr, order = ['grad_year', 'cgpa']))\n"
      ],
      "metadata": {
        "colab": {
          "base_uri": "https://localhost:8080/"
        },
        "id": "hq6zcDZNF041",
        "outputId": "766a255e-b9e9-4701-92a3-c7e9a3918b02"
      },
      "execution_count": null,
      "outputs": [
        {
          "output_type": "stream",
          "name": "stdout",
          "text": [
            "Array elements in sorted order:\n",
            " [-1  0  1  2  3  4  4  5  6]\n",
            "Row-wise sorted array:\n",
            " [[ 1  2  4]\n",
            " [ 3  4  6]\n",
            " [-1  0  5]]\n",
            "Column wise sort by applying merge-sort:\n",
            " [[ 0 -1  2]\n",
            " [ 1  4  5]\n",
            " [ 3  4  6]]\n",
            "\n",
            "Array sorted by names:\n",
            " [(b'Aakash', 2009, 9. ) (b'Ajay', 2008, 8.7) (b'Hrithik', 2009, 8.5)\n",
            " (b'Pankaj', 2008, 7.9)]\n",
            "Array sorted by graduation year and then cgpa:\n",
            " [(b'Pankaj', 2008, 7.9) (b'Ajay', 2008, 8.7) (b'Hrithik', 2009, 8.5)\n",
            " (b'Aakash', 2009, 9. )]\n"
          ]
        }
      ]
    },
    {
      "cell_type": "markdown",
      "source": [
        "## **Advance Numpy**"
      ],
      "metadata": {
        "id": "UmwAb_msIADu"
      }
    },
    {
      "cell_type": "code",
      "source": [
        "#stacking\n",
        "import numpy as np\n",
        "\n",
        "a = np.array([[1, 2],\n",
        "\t\t\t[3, 4]])\n",
        "\n",
        "b = np.array([[5, 6],\n",
        "\t\t\t[7, 8]])\n",
        "\n",
        "# vertical stacking\n",
        "print(\"Vertical stacking:\\n\", np.vstack((a, b)))\n",
        "\n",
        "# horizontal stacking\n",
        "print(\"\\nHorizontal stacking:\\n\", np.hstack((a, b)))\n",
        "\n",
        "c = [5, 6]\n",
        "\n",
        "# stacking columns\n",
        "print(\"\\nColumn stacking:\\n\", np.column_stack((a, c)))\n",
        "\n",
        "# concatenation method\n",
        "print(\"\\nConcatenating to 2nd axis:\\n\", np.concatenate((a, b), 1))\n"
      ],
      "metadata": {
        "colab": {
          "base_uri": "https://localhost:8080/"
        },
        "id": "sF-kVsQvIX_H",
        "outputId": "9a483946-570f-442a-df4b-cdb167c69d3c"
      },
      "execution_count": null,
      "outputs": [
        {
          "output_type": "stream",
          "name": "stdout",
          "text": [
            "Vertical stacking:\n",
            " [[1 2]\n",
            " [3 4]\n",
            " [5 6]\n",
            " [7 8]]\n",
            "\n",
            "Horizontal stacking:\n",
            " [[1 2 5 6]\n",
            " [3 4 7 8]]\n",
            "\n",
            "Column stacking:\n",
            " [[1 2 5]\n",
            " [3 4 6]]\n",
            "\n",
            "Concatenating to 2nd axis:\n",
            " [[1 2 5 6]\n",
            " [3 4 7 8]]\n"
          ]
        }
      ]
    },
    {
      "cell_type": "code",
      "source": [
        "#spliting\n",
        "import numpy as np\n",
        "\n",
        "a = np.array([[1, 3, 5, 7, 9, 11],\n",
        "\t\t\t[2, 4, 6, 8, 10, 12]])\n",
        "\n",
        "# horizontal splitting\n",
        "print(\"Splitting along horizontal axis into 2 parts:\\n\", np.hsplit(a, 2))\n",
        "\n",
        "# vertical splitting\n",
        "print(\"\\nSplitting along vertical axis into 2 parts:\\n\", np.vsplit(a, 2))\n"
      ],
      "metadata": {
        "colab": {
          "base_uri": "https://localhost:8080/"
        },
        "id": "NFa5ANO6Il5c",
        "outputId": "7acd3e22-af90-424e-a578-5afaffce45ec"
      },
      "execution_count": null,
      "outputs": [
        {
          "output_type": "stream",
          "name": "stdout",
          "text": [
            "Splitting along horizontal axis into 2 parts:\n",
            " [array([[1, 3, 5],\n",
            "       [2, 4, 6]]), array([[ 7,  9, 11],\n",
            "       [ 8, 10, 12]])]\n",
            "\n",
            "Splitting along vertical axis into 2 parts:\n",
            " [array([[ 1,  3,  5,  7,  9, 11]]), array([[ 2,  4,  6,  8, 10, 12]])]\n"
          ]
        }
      ]
    },
    {
      "cell_type": "code",
      "source": [
        "#broadcasting\n",
        "import numpy as np\n",
        "\n",
        "a = np.array([1.0, 2.0, 3.0])\n",
        "\n",
        "# Example 1\n",
        "b = 2.0\n",
        "print(a * b)\n",
        "\n",
        "# Example 2\n",
        "c = [2.0, 2.0, 2.0]\n",
        "print(a * c)\n",
        "\n",
        "a = np.array([0.0, 10.0, 20.0, 30.0])\n",
        "b = np.array([0.0, 1.0, 2.0])\n",
        "  \n",
        "print(a[:, np.newaxis] + b)"
      ],
      "metadata": {
        "colab": {
          "base_uri": "https://localhost:8080/"
        },
        "id": "dPr3ac8xJH3v",
        "outputId": "1f250ee9-e2b9-41c3-b844-a98ff5669c39"
      },
      "execution_count": null,
      "outputs": [
        {
          "output_type": "stream",
          "name": "stdout",
          "text": [
            "[2. 4. 6.]\n",
            "[2. 4. 6.]\n",
            "[[ 0.  1.  2.]\n",
            " [10. 11. 12.]\n",
            " [20. 21. 22.]\n",
            " [30. 31. 32.]]\n"
          ]
        }
      ]
    },
    {
      "cell_type": "code",
      "source": [
        "#working with date and time\n",
        "import numpy as np\n",
        "\n",
        "# creating a date\n",
        "today = np.datetime64('2017-02-12')\n",
        "print(\"Date is:\", today)\n",
        "print(\"Year is:\", np.datetime64(today, 'Y'))\n",
        "\n",
        "# creating array of dates in a month\n",
        "dates = np.arange('2017-02', '2017-03', dtype='datetime64[D]')\n",
        "print(\"\\nDates of February, 2017:\\n\", dates)\n",
        "print(\"Today is February:\", today in dates)\n",
        "\n",
        "# arithmetic operation on dates\n",
        "dur = np.datetime64('2017-05-22') - np.datetime64('2016-05-22')\n",
        "print(\"\\nNo. of days:\", dur)\n",
        "print(\"No. of weeks:\", np.timedelta64(dur, 'W'))\n",
        "\n",
        "# sorting dates\n",
        "a = np.array(['2017-02-12', '2016-10-13', '2019-05-22'], dtype='datetime64')\n",
        "print(\"\\nDates in sorted order:\", np.sort(a))\n"
      ],
      "metadata": {
        "colab": {
          "base_uri": "https://localhost:8080/"
        },
        "id": "d3cLa3SIJZVK",
        "outputId": "893cebf4-ceba-4b0f-fae1-b3f1b144fa9e"
      },
      "execution_count": null,
      "outputs": [
        {
          "output_type": "stream",
          "name": "stdout",
          "text": [
            "Date is: 2017-02-12\n",
            "Year is: 2017\n",
            "\n",
            "Dates of February, 2017:\n",
            " ['2017-02-01' '2017-02-02' '2017-02-03' '2017-02-04' '2017-02-05'\n",
            " '2017-02-06' '2017-02-07' '2017-02-08' '2017-02-09' '2017-02-10'\n",
            " '2017-02-11' '2017-02-12' '2017-02-13' '2017-02-14' '2017-02-15'\n",
            " '2017-02-16' '2017-02-17' '2017-02-18' '2017-02-19' '2017-02-20'\n",
            " '2017-02-21' '2017-02-22' '2017-02-23' '2017-02-24' '2017-02-25'\n",
            " '2017-02-26' '2017-02-27' '2017-02-28']\n",
            "Today is February: True\n",
            "\n",
            "No. of days: 365 days\n",
            "No. of weeks: 52 weeks\n",
            "\n",
            "Dates in sorted order: ['2016-10-13' '2017-02-12' '2019-05-22']\n"
          ]
        }
      ]
    },
    {
      "cell_type": "code",
      "source": [
        "#Linear algebra\n",
        "import numpy as np\n",
        "\n",
        "A = np.array([[6, 1, 1],\n",
        "\t\t\t[4, -2, 5],\n",
        "\t\t\t[2, 8, 7]])\n",
        "\n",
        "print(\"Rank of A:\", np.linalg.matrix_rank(A))\n",
        "\n",
        "print(\"\\nTrace of A:\", np.trace(A))\n",
        "\n",
        "print(\"\\nDeterminant of A:\", np.linalg.det(A))\n",
        "\n",
        "print(\"\\nInverse of A:\\n\", np.linalg.inv(A))\n",
        "\n",
        "print(\"\\nMatrix A raised to power 3:\\n\", np.linalg.matrix_power(A, 3))\n"
      ],
      "metadata": {
        "colab": {
          "base_uri": "https://localhost:8080/"
        },
        "id": "Uw8cPdQ2OX23",
        "outputId": "9e1997c8-69c8-4e31-be3d-53a10b124826"
      },
      "execution_count": null,
      "outputs": [
        {
          "output_type": "stream",
          "name": "stdout",
          "text": [
            "Rank of A: 3\n",
            "\n",
            "Trace of A: 11\n",
            "\n",
            "Determinant of A: -306.0\n",
            "\n",
            "Inverse of A:\n",
            " [[ 0.17647059 -0.00326797 -0.02287582]\n",
            " [ 0.05882353 -0.13071895  0.08496732]\n",
            " [-0.11764706  0.1503268   0.05228758]]\n",
            "\n",
            "Matrix A raised to power 3:\n",
            " [[336 162 228]\n",
            " [406 162 469]\n",
            " [698 702 905]]\n"
          ]
        }
      ]
    },
    {
      "cell_type": "code",
      "source": [
        "#Let us assume that we want to solve this linear equation set:\n",
        "#x + 2*y = 8\n",
        "#3*x + 4*y = 18\n",
        "import numpy as np\n",
        "\n",
        "# coefficients\n",
        "a = np.array([[1, 2], [3, 4]])\n",
        "# constants\n",
        "b = np.array([8, 18])\n",
        "\n",
        "print(\"Solution of linear equations:\", np.linalg.solve(a, b))\n"
      ],
      "metadata": {
        "colab": {
          "base_uri": "https://localhost:8080/"
        },
        "id": "3PGF8DAEOkqc",
        "outputId": "6dd03c8a-4426-4f8f-e298-48f215be8f05"
      },
      "execution_count": null,
      "outputs": [
        {
          "output_type": "stream",
          "name": "stdout",
          "text": [
            "Solution of linear equations: [2. 3.]\n"
          ]
        }
      ]
    },
    {
      "cell_type": "markdown",
      "source": [
        "Finally, we see an example which shows how one can perform linear regression using least squares method.\n",
        "\n",
        "A linear regression line is of the form w1x + w2 = y and it is the line that minimizes the sum of the squares of the distance from each data point to the line. So, given n pairs of data (xi, yi), the parameters that we are looking for are w1 and w2 which minimize the error:"
      ],
      "metadata": {
        "id": "73YRyQi3PHIF"
      }
    },
    {
      "cell_type": "code",
      "source": [
        "import numpy as np\n",
        "import matplotlib.pyplot as plt\n",
        "\n",
        "# x co-ordinates\n",
        "x = np.arange(0, 9)\n",
        "A = np.array([x, np.ones(9)])\n",
        "\n",
        "# linearly generated sequence\n",
        "y = [19, 20, 20.5, 21.5, 22, 23, 23, 25.5, 24]\n",
        "# obtaining the parameters of regression line\n",
        "w = np.linalg.lstsq(A.T, y)[0]\n",
        "\n",
        "# plotting the line\n",
        "line = w[0]*x + w[1] # regression line\n",
        "plt.plot(x, line, 'r-')\n",
        "plt.plot(x, y, 'o')\n",
        "plt.show()\n"
      ],
      "metadata": {
        "colab": {
          "base_uri": "https://localhost:8080/",
          "height": 338
        },
        "id": "CppxI86VPIxi",
        "outputId": "8ec82733-ffd3-4ac0-c891-96b87a2cc764"
      },
      "execution_count": null,
      "outputs": [
        {
          "output_type": "stream",
          "name": "stderr",
          "text": [
            "/usr/local/lib/python3.7/dist-packages/ipykernel_launcher.py:11: FutureWarning: `rcond` parameter will change to the default of machine precision times ``max(M, N)`` where M and N are the input matrix dimensions.\n",
            "To use the future default and silence this warning we advise to pass `rcond=None`, to keep using the old, explicitly pass `rcond=-1`.\n",
            "  # This is added back by InteractiveShellApp.init_path()\n"
          ]
        },
        {
          "output_type": "display_data",
          "data": {
            "text/plain": [
              "<Figure size 432x288 with 1 Axes>"
            ],
            "image/png": "[encoded data removed]"
          },
          "metadata": {
            "needs_background": "light"
          }
        }
      ]
    }
  ]
}